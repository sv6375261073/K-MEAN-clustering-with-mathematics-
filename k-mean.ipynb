{
 "cells": [
  {
   "cell_type": "code",
   "execution_count": 2,
   "metadata": {},
   "outputs": [],
   "source": [
    "import pandas as pd\n",
    "import numpy as np\n",
    "import math\n",
    "import matplotlib.pyplot as plt\n",
    "%matplotlib inline"
   ]
  },
  {
   "cell_type": "code",
   "execution_count": 15,
   "metadata": {},
   "outputs": [],
   "source": [
    "height=[185,170,168,179,182,188,180,180,183,180,180,177]\n",
    "weight=[72,56,60,68,72,77,71,70,84,88,67,76]\n",
    "# age=[52,36,60,68,42,55,21,70,24,68,32,58]\n",
    "data=pd.DataFrame({'height':height,'weight':weight})\n",
    "# data=pd.read_csv(\"C:/Users/SHIVAM/Downloads/python Projects/Datasets/Iris.csv\")"
   ]
  },
  {
   "cell_type": "code",
   "execution_count": 16,
   "metadata": {},
   "outputs": [
    {
     "name": "stdout",
     "output_type": "stream",
     "text": [
      "Enter no. of centers: 2\n"
     ]
    }
   ],
   "source": [
    "def center_selection(data):\n",
    "    n=len(data)\n",
    "    centers_no=int(input(\"Enter no. of centers: \"))\n",
    "    features_name=list(data.head(0))\n",
    "    centers=[list(data.iloc[i+int(n/2),:]) for i in range(centers_no)]\n",
    "    return centers_no,features_name,centers\n",
    "centers_no,features_name,centers=center_selection(data)"
   ]
  },
  {
   "cell_type": "code",
   "execution_count": 17,
   "metadata": {},
   "outputs": [
    {
     "data": {
      "text/plain": [
       "[[180, 71], [180, 70]]"
      ]
     },
     "execution_count": 17,
     "metadata": {},
     "output_type": "execute_result"
    }
   ],
   "source": [
    "centers"
   ]
  },
  {
   "cell_type": "code",
   "execution_count": 32,
   "metadata": {},
   "outputs": [],
   "source": [
    "\n",
    "def get_final_center():\n",
    "    for i in range(len(data)):\n",
    "        to_update_center=[]\n",
    "        dist_cluster=[]\n",
    "        center=0  \n",
    "        try:\n",
    "            while center !=len(centers):\n",
    "                center_col=0\n",
    "                distence=0\n",
    "                to_update_center.append(data.iloc[i,center])\n",
    "                while center_col !=len(features_name):\n",
    "                    distence+=(data.iloc[i,center_col]-centers[center][center_col])**2\n",
    "        #               print(data.iloc[i,center_col],centers[center][center_col])\n",
    "                    center_col+=1\n",
    "#                 print(math.sqrt(distence))\n",
    "                center+=1\n",
    "                dist_cluster.append(math.sqrt(distence))\n",
    "        except:\n",
    "            continue\n",
    "        min_index=dist_cluster.index(min(dist_cluster))\n",
    "#         print(min_index)\n",
    "        for l in range(len(centers)):\n",
    "            centers[min_index][l]=(centers[min_index][l]+to_update_center[l])/len(features_name)\n",
    "            print('*******************************Center Updated **********************************')\n",
    "            print(centers,\"\\n\")\n",
    "#         plot()\n",
    "    return centers"
   ]
  },
  {
   "cell_type": "code",
   "execution_count": 33,
   "metadata": {
    "scrolled": true
   },
   "outputs": [
    {
     "name": "stdout",
     "output_type": "stream",
     "text": [
      "*******************************Center Updated **********************************\n",
      "[[182.00978473581216, 79.42074363992148], [175.14300537109375, 63.42877197265625]] \n",
      "\n",
      "*******************************Center Updated **********************************\n",
      "[[182.00978473581216, 75.71037181996074], [175.14300537109375, 63.42877197265625]] \n",
      "\n",
      "*******************************Center Updated **********************************\n",
      "[[182.00978473581216, 75.71037181996074], [172.57150268554688, 63.42877197265625]] \n",
      "\n",
      "*******************************Center Updated **********************************\n",
      "[[182.00978473581216, 75.71037181996074], [172.57150268554688, 59.714385986328125]] \n",
      "\n",
      "*******************************Center Updated **********************************\n",
      "[[182.00978473581216, 75.71037181996074], [170.28575134277344, 59.714385986328125]] \n",
      "\n",
      "*******************************Center Updated **********************************\n",
      "[[182.00978473581216, 75.71037181996074], [170.28575134277344, 59.85719299316406]] \n",
      "\n",
      "*******************************Center Updated **********************************\n",
      "[[180.50489236790608, 75.71037181996074], [170.28575134277344, 59.85719299316406]] \n",
      "\n",
      "*******************************Center Updated **********************************\n",
      "[[180.50489236790608, 71.85518590998038], [170.28575134277344, 59.85719299316406]] \n",
      "\n",
      "*******************************Center Updated **********************************\n",
      "[[181.25244618395305, 71.85518590998038], [170.28575134277344, 59.85719299316406]] \n",
      "\n",
      "*******************************Center Updated **********************************\n",
      "[[181.25244618395305, 71.92759295499019], [170.28575134277344, 59.85719299316406]] \n",
      "\n",
      "*******************************Center Updated **********************************\n",
      "[[184.62622309197653, 71.92759295499019], [170.28575134277344, 59.85719299316406]] \n",
      "\n",
      "*******************************Center Updated **********************************\n",
      "[[184.62622309197653, 74.4637964774951], [170.28575134277344, 59.85719299316406]] \n",
      "\n",
      "*******************************Center Updated **********************************\n",
      "[[182.31311154598825, 74.4637964774951], [170.28575134277344, 59.85719299316406]] \n",
      "\n",
      "*******************************Center Updated **********************************\n",
      "[[182.31311154598825, 72.73189823874755], [170.28575134277344, 59.85719299316406]] \n",
      "\n",
      "*******************************Center Updated **********************************\n",
      "[[181.15655577299412, 72.73189823874755], [170.28575134277344, 59.85719299316406]] \n",
      "\n",
      "*******************************Center Updated **********************************\n",
      "[[181.15655577299412, 71.36594911937377], [170.28575134277344, 59.85719299316406]] \n",
      "\n",
      "*******************************Center Updated **********************************\n",
      "[[182.07827788649706, 71.36594911937377], [170.28575134277344, 59.85719299316406]] \n",
      "\n",
      "*******************************Center Updated **********************************\n",
      "[[182.07827788649706, 77.68297455968688], [170.28575134277344, 59.85719299316406]] \n",
      "\n",
      "*******************************Center Updated **********************************\n",
      "[[181.03913894324853, 77.68297455968688], [170.28575134277344, 59.85719299316406]] \n",
      "\n",
      "*******************************Center Updated **********************************\n",
      "[[181.03913894324853, 82.84148727984345], [170.28575134277344, 59.85719299316406]] \n",
      "\n",
      "*******************************Center Updated **********************************\n",
      "[[181.03913894324853, 82.84148727984345], [175.14287567138672, 59.85719299316406]] \n",
      "\n",
      "*******************************Center Updated **********************************\n",
      "[[181.03913894324853, 82.84148727984345], [175.14287567138672, 63.42859649658203]] \n",
      "\n",
      "*******************************Center Updated **********************************\n",
      "[[179.01956947162427, 82.84148727984345], [175.14287567138672, 63.42859649658203]] \n",
      "\n",
      "*******************************Center Updated **********************************\n",
      "[[179.01956947162427, 79.42074363992172], [175.14287567138672, 63.42859649658203]] \n",
      "\n",
      "############################Finally updated centers  : ############################\n",
      "[[179.01956947162427, 79.42074363992172], [175.14287567138672, 63.42859649658203]]\n"
     ]
    }
   ],
   "source": [
    "center=get_final_center()\n",
    "print(\"############################Finally updated centers  : ############################\")\n",
    "print(center)"
   ]
  },
  {
   "cell_type": "code",
   "execution_count": 29,
   "metadata": {},
   "outputs": [
    {
     "name": "stdout",
     "output_type": "stream",
     "text": [
      "Enter sample 2  :231 423\n",
      "****************************Sample belongs To Class A************************************\n"
     ]
    }
   ],
   "source": [
    "n_f=len(list(data.head(0)))\n",
    "sample=np.array(input(f\"Enter sample {n_f}  :\").split(),dtype=float)\n",
    "distence=[math.sqrt(np.array([(sample[j]-center[i][j])**2 for j in range(len(center[0]))]).sum()) for i in range(len(center))]\n",
    "if distence[0]<distence[1]:\n",
    "    print('****************************Sample belongs To Class A************************************')\n",
    "else:\n",
    "    print('****************************Sample belongs to Class B*************************************')"
   ]
  }
 ],
 "metadata": {
  "kernelspec": {
   "display_name": "Python 3",
   "language": "python",
   "name": "python3"
  },
  "language_info": {
   "codemirror_mode": {
    "name": "ipython",
    "version": 3
   },
   "file_extension": ".py",
   "mimetype": "text/x-python",
   "name": "python",
   "nbconvert_exporter": "python",
   "pygments_lexer": "ipython3",
   "version": "3.7.4"
  }
 },
 "nbformat": 4,
 "nbformat_minor": 2
}
