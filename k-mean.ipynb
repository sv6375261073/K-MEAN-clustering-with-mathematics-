{
 "cells": [
  {
   "cell_type": "code",
   "execution_count": 1,
   "metadata": {},
   "outputs": [],
   "source": [
    "import pandas as pd\n",
    "import numpy as np\n",
    "import math"
   ]
  },
  {
   "cell_type": "code",
   "execution_count": 24,
   "metadata": {},
   "outputs": [],
   "source": [
    "height=[185,170,168,179,182,188,180,180,183,180,180,177]\n",
    "weight=[72,56,60,68,72,77,71,70,84,88,67,76]\n",
    "age=[52,36,60,68,42,55,21,70,24,68,32,58]\n",
    "data=pd.DataFrame({'height':height,'weight':weight,'age':age})"
   ]
  },
  {
   "cell_type": "code",
   "execution_count": 25,
   "metadata": {},
   "outputs": [
    {
     "data": {
      "text/html": [
       "<div>\n",
       "<style scoped>\n",
       "    .dataframe tbody tr th:only-of-type {\n",
       "        vertical-align: middle;\n",
       "    }\n",
       "\n",
       "    .dataframe tbody tr th {\n",
       "        vertical-align: top;\n",
       "    }\n",
       "\n",
       "    .dataframe thead th {\n",
       "        text-align: right;\n",
       "    }\n",
       "</style>\n",
       "<table border=\"1\" class=\"dataframe\">\n",
       "  <thead>\n",
       "    <tr style=\"text-align: right;\">\n",
       "      <th></th>\n",
       "      <th>height</th>\n",
       "      <th>weight</th>\n",
       "      <th>age</th>\n",
       "    </tr>\n",
       "  </thead>\n",
       "  <tbody>\n",
       "    <tr>\n",
       "      <td>0</td>\n",
       "      <td>185</td>\n",
       "      <td>72</td>\n",
       "      <td>52</td>\n",
       "    </tr>\n",
       "    <tr>\n",
       "      <td>1</td>\n",
       "      <td>170</td>\n",
       "      <td>56</td>\n",
       "      <td>36</td>\n",
       "    </tr>\n",
       "    <tr>\n",
       "      <td>2</td>\n",
       "      <td>168</td>\n",
       "      <td>60</td>\n",
       "      <td>60</td>\n",
       "    </tr>\n",
       "    <tr>\n",
       "      <td>3</td>\n",
       "      <td>179</td>\n",
       "      <td>68</td>\n",
       "      <td>68</td>\n",
       "    </tr>\n",
       "    <tr>\n",
       "      <td>4</td>\n",
       "      <td>182</td>\n",
       "      <td>72</td>\n",
       "      <td>42</td>\n",
       "    </tr>\n",
       "    <tr>\n",
       "      <td>5</td>\n",
       "      <td>188</td>\n",
       "      <td>77</td>\n",
       "      <td>55</td>\n",
       "    </tr>\n",
       "    <tr>\n",
       "      <td>6</td>\n",
       "      <td>180</td>\n",
       "      <td>71</td>\n",
       "      <td>21</td>\n",
       "    </tr>\n",
       "    <tr>\n",
       "      <td>7</td>\n",
       "      <td>180</td>\n",
       "      <td>70</td>\n",
       "      <td>70</td>\n",
       "    </tr>\n",
       "    <tr>\n",
       "      <td>8</td>\n",
       "      <td>183</td>\n",
       "      <td>84</td>\n",
       "      <td>24</td>\n",
       "    </tr>\n",
       "    <tr>\n",
       "      <td>9</td>\n",
       "      <td>180</td>\n",
       "      <td>88</td>\n",
       "      <td>68</td>\n",
       "    </tr>\n",
       "    <tr>\n",
       "      <td>10</td>\n",
       "      <td>180</td>\n",
       "      <td>67</td>\n",
       "      <td>32</td>\n",
       "    </tr>\n",
       "    <tr>\n",
       "      <td>11</td>\n",
       "      <td>177</td>\n",
       "      <td>76</td>\n",
       "      <td>58</td>\n",
       "    </tr>\n",
       "  </tbody>\n",
       "</table>\n",
       "</div>"
      ],
      "text/plain": [
       "    height  weight  age\n",
       "0      185      72   52\n",
       "1      170      56   36\n",
       "2      168      60   60\n",
       "3      179      68   68\n",
       "4      182      72   42\n",
       "5      188      77   55\n",
       "6      180      71   21\n",
       "7      180      70   70\n",
       "8      183      84   24\n",
       "9      180      88   68\n",
       "10     180      67   32\n",
       "11     177      76   58"
      ]
     },
     "execution_count": 25,
     "metadata": {},
     "output_type": "execute_result"
    }
   ],
   "source": [
    "data"
   ]
  },
  {
   "cell_type": "code",
   "execution_count": 26,
   "metadata": {},
   "outputs": [],
   "source": [
    "def center_selection(data):\n",
    "    centers_no=int(input(\"Enter no. of centers: \"))\n",
    "    features_name=list(data.head(0))\n",
    "    centers=[]\n",
    "    for i in range(centers_no):\n",
    "        centers.append(list(data.iloc[i,:]))\n",
    "    return centers_no,features_name,centers"
   ]
  },
  {
   "cell_type": "code",
   "execution_count": 27,
   "metadata": {},
   "outputs": [
    {
     "name": "stdout",
     "output_type": "stream",
     "text": [
      "Enter no. of centers: 3\n"
     ]
    }
   ],
   "source": [
    "centers_no,features_name,centers=center_selection(data)"
   ]
  },
  {
   "cell_type": "code",
   "execution_count": 28,
   "metadata": {},
   "outputs": [],
   "source": [
    "def get_final_center():\n",
    "    for i in range(centers_no,len(data)):\n",
    "        to_update_center=[]\n",
    "        dist_cluster=[]\n",
    "        center=0  \n",
    "        try:\n",
    "            while center !=len(centers):\n",
    "                center_col=0\n",
    "                distence=0\n",
    "                to_update_center.append(data.iloc[i,center])\n",
    "                while center_col !=len(features_name):\n",
    "                    distence+=(data.iloc[i,center_col]-centers[center][center_col])**2\n",
    "        #               print(data.iloc[i,center_col],centers[center][center_col])\n",
    "                    center_col+=1\n",
    "                print(math.sqrt(distence))\n",
    "                center+=1\n",
    "                dist_cluster.append(math.sqrt(distence))\n",
    "        except:\n",
    "            continue\n",
    "        min_index=dist_cluster.index(min(dist_cluster))\n",
    "        for l in range(len(features_name)):\n",
    "            centers[min_index][l]=(centers[min_index][l]+to_update_center[l])/len(features_name)\n",
    "    return centers        "
   ]
  },
  {
   "cell_type": "code",
   "execution_count": 29,
   "metadata": {},
   "outputs": [
    {
     "name": "stdout",
     "output_type": "stream",
     "text": [
      "17.549928774784245\n",
      "35.34119409414458\n",
      "15.7797338380595\n",
      "10.44030650891055\n",
      "20.8806130178211\n",
      "72.53275122315435\n",
      "75.58585993571961\n",
      "33.555923471125034\n",
      "81.01234473831751\n",
      "62.93824133404287\n",
      "66.92284114311546\n",
      "73.55949972641196\n",
      "99.79157291420633\n",
      "76.89386624865905\n",
      "75.05331438384317\n",
      "93.64247743544014\n",
      "75.27947927556355\n",
      "97.32267826002172\n",
      "105.6794010319378\n",
      "103.97168417944913\n",
      "100.52215528779566\n",
      "85.05960147137499\n",
      "83.99867723826237\n",
      "90.75998284264222\n",
      "93.67332255249994\n",
      "101.06989391896145\n",
      "93.63505024158879\n"
     ]
    },
    {
     "data": {
      "text/plain": [
       "[[100.77777777777777, 39.666666666666664, 17.444444444444443],\n",
       " [93.5925925925926, 36.59259259259259, 16.703703703703706],\n",
       " [89.95061728395062, 39.28395061728395, 31.06172839506173]]"
      ]
     },
     "execution_count": 29,
     "metadata": {},
     "output_type": "execute_result"
    }
   ],
   "source": [
    "get_final_center()"
   ]
  }
 ],
 "metadata": {
  "kernelspec": {
   "display_name": "Python 3",
   "language": "python",
   "name": "python3"
  },
  "language_info": {
   "codemirror_mode": {
    "name": "ipython",
    "version": 3
   },
   "file_extension": ".py",
   "mimetype": "text/x-python",
   "name": "python",
   "nbconvert_exporter": "python",
   "pygments_lexer": "ipython3",
   "version": "3.7.4"
  }
 },
 "nbformat": 4,
 "nbformat_minor": 2
}
