{
 "cells": [
  {
   "cell_type": "code",
   "execution_count": 1,
   "metadata": {},
   "outputs": [],
   "source": [
    "import pandas as pd\n",
    "import numpy as np\n",
    "import math\n",
    "import matplotlib.pyplot as plt\n",
    "%matplotlib inline"
   ]
  },
  {
   "cell_type": "code",
   "execution_count": 2,
   "metadata": {},
   "outputs": [],
   "source": [
    "height=[185,170,168,179,182,188,180,180,183,180,180,177]\n",
    "weight=[72,56,60,68,72,77,71,70,84,88,67,76]\n",
    "age=[52,36,60,68,42,55,21,70,24,68,32,58]\n",
    "data=pd.DataFrame({'height':height,'weight':weight,'age':age})"
   ]
  },
  {
   "cell_type": "code",
   "execution_count": 3,
   "metadata": {
    "scrolled": true
   },
   "outputs": [
    {
     "data": {
      "text/html": [
       "<div>\n",
       "<style scoped>\n",
       "    .dataframe tbody tr th:only-of-type {\n",
       "        vertical-align: middle;\n",
       "    }\n",
       "\n",
       "    .dataframe tbody tr th {\n",
       "        vertical-align: top;\n",
       "    }\n",
       "\n",
       "    .dataframe thead th {\n",
       "        text-align: right;\n",
       "    }\n",
       "</style>\n",
       "<table border=\"1\" class=\"dataframe\">\n",
       "  <thead>\n",
       "    <tr style=\"text-align: right;\">\n",
       "      <th></th>\n",
       "      <th>height</th>\n",
       "      <th>weight</th>\n",
       "      <th>age</th>\n",
       "    </tr>\n",
       "  </thead>\n",
       "  <tbody>\n",
       "    <tr>\n",
       "      <td>0</td>\n",
       "      <td>185</td>\n",
       "      <td>72</td>\n",
       "      <td>52</td>\n",
       "    </tr>\n",
       "    <tr>\n",
       "      <td>1</td>\n",
       "      <td>170</td>\n",
       "      <td>56</td>\n",
       "      <td>36</td>\n",
       "    </tr>\n",
       "    <tr>\n",
       "      <td>2</td>\n",
       "      <td>168</td>\n",
       "      <td>60</td>\n",
       "      <td>60</td>\n",
       "    </tr>\n",
       "    <tr>\n",
       "      <td>3</td>\n",
       "      <td>179</td>\n",
       "      <td>68</td>\n",
       "      <td>68</td>\n",
       "    </tr>\n",
       "    <tr>\n",
       "      <td>4</td>\n",
       "      <td>182</td>\n",
       "      <td>72</td>\n",
       "      <td>42</td>\n",
       "    </tr>\n",
       "    <tr>\n",
       "      <td>5</td>\n",
       "      <td>188</td>\n",
       "      <td>77</td>\n",
       "      <td>55</td>\n",
       "    </tr>\n",
       "    <tr>\n",
       "      <td>6</td>\n",
       "      <td>180</td>\n",
       "      <td>71</td>\n",
       "      <td>21</td>\n",
       "    </tr>\n",
       "    <tr>\n",
       "      <td>7</td>\n",
       "      <td>180</td>\n",
       "      <td>70</td>\n",
       "      <td>70</td>\n",
       "    </tr>\n",
       "    <tr>\n",
       "      <td>8</td>\n",
       "      <td>183</td>\n",
       "      <td>84</td>\n",
       "      <td>24</td>\n",
       "    </tr>\n",
       "    <tr>\n",
       "      <td>9</td>\n",
       "      <td>180</td>\n",
       "      <td>88</td>\n",
       "      <td>68</td>\n",
       "    </tr>\n",
       "    <tr>\n",
       "      <td>10</td>\n",
       "      <td>180</td>\n",
       "      <td>67</td>\n",
       "      <td>32</td>\n",
       "    </tr>\n",
       "    <tr>\n",
       "      <td>11</td>\n",
       "      <td>177</td>\n",
       "      <td>76</td>\n",
       "      <td>58</td>\n",
       "    </tr>\n",
       "  </tbody>\n",
       "</table>\n",
       "</div>"
      ],
      "text/plain": [
       "    height  weight  age\n",
       "0      185      72   52\n",
       "1      170      56   36\n",
       "2      168      60   60\n",
       "3      179      68   68\n",
       "4      182      72   42\n",
       "5      188      77   55\n",
       "6      180      71   21\n",
       "7      180      70   70\n",
       "8      183      84   24\n",
       "9      180      88   68\n",
       "10     180      67   32\n",
       "11     177      76   58"
      ]
     },
     "execution_count": 3,
     "metadata": {},
     "output_type": "execute_result"
    }
   ],
   "source": [
    "data"
   ]
  },
  {
   "cell_type": "code",
   "execution_count": 17,
   "metadata": {},
   "outputs": [
    {
     "name": "stdout",
     "output_type": "stream",
     "text": [
      "Enter no. of centers: 3\n"
     ]
    }
   ],
   "source": [
    "def center_selection(data):\n",
    "    centers_no=int(input(\"Enter no. of centers: \"))\n",
    "    features_name=list(data.head(0))\n",
    "    centers=[]\n",
    "    for i in range(centers_no):\n",
    "        centers.append(list(data.iloc[i,:]))\n",
    "    return centers_no,features_name,centers\n",
    "centers_no,features_name,centers=center_selection(data)"
   ]
  },
  {
   "cell_type": "code",
   "execution_count": 18,
   "metadata": {},
   "outputs": [
    {
     "data": {
      "text/plain": [
       "[[185, 72, 52], [170, 56, 36], [168, 60, 60]]"
      ]
     },
     "execution_count": 18,
     "metadata": {},
     "output_type": "execute_result"
    }
   ],
   "source": [
    "centers"
   ]
  },
  {
   "cell_type": "code",
   "execution_count": 6,
   "metadata": {},
   "outputs": [
    {
     "data": {
      "image/png": "[encoded data removed]",
      "text/plain": [
       "<Figure size 432x288 with 1 Axes>"
      ]
     },
     "metadata": {
      "needs_background": "light"
     },
     "output_type": "display_data"
    }
   ],
   "source": [
    "y=np.arange(12)\n",
    "centerlabel=list(zip(centers[0],centers[1]))\n",
    "plt.scatter(data['height'],y)\n",
    "plt.scatter(data['weight'],y)\n",
    "plt.scatter(data['age'],y)\n",
    "plt.scatter(centerlabel[0],centerlabel[1],marker=\"*\")\n",
    "plt.show()"
   ]
  },
  {
   "cell_type": "code",
   "execution_count": 21,
   "metadata": {},
   "outputs": [],
   "source": [
    "\n",
    "def get_final_center():\n",
    "    for i in range(centers_no-1,len(data)):\n",
    "        to_update_center=[]\n",
    "        dist_cluster=[]\n",
    "        center=0  \n",
    "        try:\n",
    "            while center !=len(centers):\n",
    "                center_col=0\n",
    "                distence=0\n",
    "                to_update_center.append(data.iloc[i,center])\n",
    "                while center_col !=len(features_name):\n",
    "                    distence+=(data.iloc[i,center_col]-centers[center][center_col])**2\n",
    "        #               print(data.iloc[i,center_col],centers[center][center_col])\n",
    "                    center_col+=1\n",
    "                print(math.sqrt(distence))\n",
    "                center+=1\n",
    "                dist_cluster.append(math.sqrt(distence))\n",
    "        except:\n",
    "            continue\n",
    "        min_index=dist_cluster.index(min(dist_cluster))\n",
    "        for l in range(len(centers)):\n",
    "            centers[min_index][l]=(centers[min_index][l]+to_update_center[l])/len(features_name)\n",
    "    return centers"
   ]
  },
  {
   "cell_type": "code",
   "execution_count": 22,
   "metadata": {
    "scrolled": true
   },
   "outputs": [
    {
     "name": "stdout",
     "output_type": "stream",
     "text": [
      "85.59267272461273\n",
      "90.51016055248887\n",
      "85.96120763522924\n",
      "105.96982744445913\n",
      "105.81419904149381\n",
      "100.77714483855303\n",
      "102.84057844801353\n",
      "99.83957639678349\n",
      "99.66794435138107\n",
      "112.82177306157084\n",
      "110.97186954315937\n",
      "109.94593776632388\n",
      "99.52361532631735\n",
      "94.2727342474831\n",
      "93.49446345852895\n",
      "108.28032609835671\n",
      "108.25046529835974\n",
      "109.54396157485394\n",
      "107.6027186893955\n",
      "104.33298637987923\n",
      "104.0335747939499\n",
      "114.78885343019296\n",
      "110.81126963916093\n",
      "114.69333001728899\n",
      "98.13859880557713\n",
      "93.35754488876465\n",
      "94.55079369720856\n",
      "103.64290251719454\n",
      "102.41518149359582\n",
      "103.1071131998156\n"
     ]
    },
    {
     "data": {
      "text/plain": [
       "[[87.79012345679013, 33.913580246913575, 26.185185185185187],\n",
       " [89.03749428440786, 37.3328760859625, 26.467764060356654],\n",
       " [91.31611034903216, 40.070720926688004, 13.29614388050602]]"
      ]
     },
     "execution_count": 22,
     "metadata": {},
     "output_type": "execute_result"
    }
   ],
   "source": [
    "get_final_center()"
   ]
  },
  {
   "cell_type": "code",
   "execution_count": 77,
   "metadata": {},
   "outputs": [
    {
     "data": {
      "image/png": "[encoded data removed]",
      "text/plain": [
       "<Figure size 432x288 with 1 Axes>"
      ]
     },
     "metadata": {
      "needs_background": "light"
     },
     "output_type": "display_data"
    }
   ],
   "source": [
    "y=np.arange(12)\n",
    "centerlabel=list(zip(centers[0],centers[1]))\n",
    "plt.scatter(data['height'],y)\n",
    "plt.scatter(data['weight'],y)\n",
    "plt.scatter(data['age'],y)\n",
    "plt.scatter(centerlabel[0],centerlabel[1],marker=\"*\")\n",
    "plt.show()"
   ]
  },
  {
   "cell_type": "code",
   "execution_count": 52,
   "metadata": {},
   "outputs": [
    {
     "data": {
      "text/plain": [
       "[(185, 170), (72, 56), (52, 36)]"
      ]
     },
     "execution_count": 52,
     "metadata": {},
     "output_type": "execute_result"
    }
   ],
   "source": [
    "centerlabel"
   ]
  }
 ],
 "metadata": {
  "kernelspec": {
   "display_name": "Python 3",
   "language": "python",
   "name": "python3"
  },
  "language_info": {
   "codemirror_mode": {
    "name": "ipython",
    "version": 3
   },
   "file_extension": ".py",
   "mimetype": "text/x-python",
   "name": "python",
   "nbconvert_exporter": "python",
   "pygments_lexer": "ipython3",
   "version": "3.7.4"
  }
 },
 "nbformat": 4,
 "nbformat_minor": 2
}
